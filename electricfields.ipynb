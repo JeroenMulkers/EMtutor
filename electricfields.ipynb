{
 "cells": [
  {
   "cell_type": "markdown",
   "metadata": {},
   "source": [
    "# Numerical computation of electric fields\n",
    "<i><small>Contact: jeroen.mulkers@ugent.be</small></i>\n",
    "\n",
    "In this little demo, we will compute the electric field of rectangular charged plates numerically. The main purpose of this demo, is to show that a scripting language like Python is an ideal tool to solve physical problems when it is too hard (or when one is too lazy) to do it analytically.\n",
    "\n",
    "This thing which is running in your browser right now, is called a \"Jupyter notebook\". Such notebooks can be used to combine text, code snippets, formulas, output figures, ... in a single well structered file.  A Python engine is running in the background to run the code snippets in the code cells. To execute a code snippet, select the code cell, and press shift+enter. Try it out on the code cell below."
   ]
  },
  {
   "cell_type": "code",
   "execution_count": null,
   "metadata": {},
   "outputs": [],
   "source": [
    "import numpy as np\n",
    "import matplotlib.pyplot as plt\n",
    "\n",
    "eps0 = 42 # the electric constant\n",
    "\n",
    "print(\"The answer =\",eps0)"
   ]
  },
  {
   "cell_type": "markdown",
   "metadata": {},
   "source": [
    "By executing the above cell, you imported two libraries which are used quite often by scientists, and I strongly encourage you to start using them too. The [numpy library](https://docs.scipy.org/doc/numpy/user/quickstart.html) is a very useful library to work with vectors and tensors. The [matplotlib library](https://matplotlib.org/tutorials/introductory/usage.html) has useful plot functionalities to visualize (numpy) data. You also defined a variable for the electric constant but the value you used is totaly wrong. Please correct this before moving on, it will be used throughout this demo."
   ]
  },
  {
   "cell_type": "markdown",
   "metadata": {},
   "source": [
    "## Electric field of a rectangular plate\n",
    "\n",
    "The electric field at certain measure point $\\vec{r}$ is given by the following integral \n",
    "\n",
    "$$ \\vec{E}(\\vec{r}) = \\frac{1}{4 \\pi \\epsilon_0} \\int_V \\rho(\\vec{r}')  \\frac{\\vec{r}-\\vec{r}'}{(r-r')^3} \\ \\text{d}\\vec{r}' $$\n",
    "\n",
    "with $\\rho(\\vec{r}')$ the charge density at a point $\\vec{r}'$. For a charged rectangular plate lying in the $xy$-plane with its center in the origin and a uniform surface charge density $\\sigma$, this 'reduces' to the following two-dimensional integral\n",
    "\n",
    "$$ \\vec{E}(x,y,z) = \\frac{\\sigma}{4 \\pi \\epsilon_0} \\int^{L_x/2}_{-L_x/2}\\int^{L_y/2}_{-L_y/2} \n",
    "\\frac{ (x-x')\\hat{e}_x + (y-y')\\hat{e}_y + z \\hat{e}_z}{\\left( (x-x')^2 + (y-y')^2 + z^2\\right)^{3/2}} \\ \\text{d}x'\\text{d}y' $$\n",
    "\n",
    "with $L_x$ and $L_y$ the side lengths in the $x$ and $y$ direction. I don't really like to solve integrals like this one, and I guess you either. So, let's use python to solve this integral numerically. We will do this as follows:\n",
    "\n",
    "1. Create a partition of the rectangular plate. For simplicity, we will use a regular grid of $N_x \\times N_y$ rectangular cells. The dimensions of each cell are given by $\\Delta x=L_x/N_x$ and $\\Delta y=L_y/N_y$.\n",
    "\n",
    "2. Compute the charge of one cell. This equals the charge density multiplied by the cell area $\\Delta x \\Delta y$.\n",
    "\n",
    "3. Approximate the electric field contribution of each cell by the electric field of a single point charge at the center of the cell.\n",
    "\n",
    "4. Aproximate the integral over the plate by a finite sum over the cells.\n",
    "\n",
    "Below you can find an implementation of this approach. The `constructPlateEfield` is a function which returns a function for the electric field of a rectangular plate with the specified properties. Read through the implementation and try to understand roughly how it works."
   ]
  },
  {
   "cell_type": "code",
   "execution_count": null,
   "metadata": {},
   "outputs": [],
   "source": [
    "def constructPlateEfield(chargeDensity,Lx,Ly,Nx=100,Ny=100):\n",
    "    \n",
    "    # calculate the cell dimensions\n",
    "    dx, dy = Lx/Nx, Ly/Ny\n",
    "    \n",
    "    # construct a rectangular grid of Nx by Ny cells\n",
    "    # xCell and yCell are matrices which contain the position (of the center) of each cell \n",
    "    xCell, yCell = np.meshgrid(  np.linspace( -Lx/2+dx/2 , Lx/2-dx/2 , Nx),\n",
    "                                 np.linspace( -Ly/2+dy/2 , Ly/2-dy/2 , Ny)  )\n",
    "    \n",
    "    # calculate the prefactor (which is the same for each cell)\n",
    "    cellArea   = dx*dy\n",
    "    cellCharge = chargeDensity*cellArea\n",
    "    preFactor  = cellCharge/(4*np.pi*eps0) \n",
    "\n",
    "    \n",
    "    # define the function which can be evaluated at any point in space\n",
    "    # to get the electric field at that point\n",
    "    def Efield(x,y,z):     \n",
    "        \n",
    "        # compute the denominator of the integrand for each cell ( 1/r^3 )\n",
    "        Rinv3 = np.power((x-xCell)**2+(y-yCell)**2+z**2,-3/2)\n",
    "        \n",
    "        # calculate electric field contributions from each cell\n",
    "        dEx = preFactor * (x-xCell) * Rinv3\n",
    "        dEy = preFactor * (y-yCell) * Rinv3\n",
    "        dEz = preFactor *  z        * Rinv3 \n",
    "        \n",
    "        # and sum them together\n",
    "        return np.sum(dEx), np.sum(dEy), np.sum(dEz)\n",
    "    \n",
    "    \n",
    "    # return the electric field function \n",
    "    # (and make sure it accepts numpy array inputs by 'vectorizing' the function)\n",
    "    return np.vectorize(Efield)\n",
    "\n",
    "\n",
    "# Tip: when you 'uncomment' one of the lines below, you can read the manual of the numpy command\n",
    "\n",
    "# help(np.linspace)\n",
    "# help(np.meshgrid)\n",
    "# help(np.power)"
   ]
  },
  {
   "cell_type": "markdown",
   "metadata": {},
   "source": [
    "## Example 1: A single rectangular plate\n",
    "\n",
    "Let's use the above defined function to calculate the electric field at arbitrary positions in the vicinity of a square plate with side length 3 and charge density 1. "
   ]
  },
  {
   "cell_type": "code",
   "execution_count": null,
   "metadata": {},
   "outputs": [],
   "source": [
    "Efield = constructPlateEfield(chargeDensity=1., Lx=3, Ly=3, Nx=100, Ny=100)\n",
    "\n",
    "# in a single point\n",
    "Ex,Ey,Ez = Efield(x=1.0, y=-0.4, z=3.0)\n",
    "print(\"Efield at a single point\")\n",
    "print('  Ex =', Ex)\n",
    "print('  Ey =', Ey)\n",
    "print('  Ez =', Ez)\n",
    "\n",
    "# for multiple z values\n",
    "Ex,Ey,Ez = Efield(x=1.0, y=-0.4, z=[3.0, -1.1, 2.1])\n",
    "print(\"\\nEfield at a multiple points\")\n",
    "print('  Ex =', Ex)\n",
    "print('  Ey =', Ey)\n",
    "print('  Ez =', Ez)"
   ]
  },
  {
   "cell_type": "markdown",
   "metadata": {},
   "source": [
    "Well, that's not saying much. Let's have a look at the profile of the electric field of a square plate along the z-axis and let's compare it to the electric field caused by a point charge:\n",
    "\n",
    "$$ \\vec{E} = \\frac{Q}{4\\pi\\epsilon_0} \\frac{\\vec{r}}{r^3} $$\n",
    "\n",
    "with a charge $Q$ which equals the total charge of the square plate."
   ]
  },
  {
   "cell_type": "code",
   "execution_count": null,
   "metadata": {},
   "outputs": [],
   "source": [
    "# the positions at which we will calculate the electric field\n",
    "# (100 equaly-spaced points on the z axis between z=-10 and z=10)\n",
    "x = 0.0\n",
    "y = 0.0\n",
    "zz = np.linspace(-10,10,100) \n",
    "\n",
    "# Efield SQUARE PLATE (numerically)\n",
    "chargeDensity = 1.0\n",
    "Lx, Ly = 3.0, 3.0\n",
    "Efield = constructPlateEfield(chargeDensity, Lx, Ly, Nx=100, Ny=100)\n",
    "Ex_plate, Ey_plate, Ez_plate = Efield(x,y,zz)\n",
    "\n",
    "# Efield POINT CHARGE (analytically)\n",
    "totalCharge = chargeDensity*Lx*Ly # equals the total charge of the plate\n",
    "Rinv3 = np.power(x**2+y**2+zz**2,-3/2) # 1/r^3\n",
    "Ex_point = (totalCharge/(4*np.pi*eps0)) *  x * Rinv3\n",
    "Ey_point = (totalCharge/(4*np.pi*eps0)) *  y * Rinv3\n",
    "Ez_point = (totalCharge/(4*np.pi*eps0)) * zz * Rinv3\n",
    "\n",
    "# plot the electric fields\n",
    "plt.plot(zz,Ex_plate,color='C0',linestyle='-',label='Ex Square')\n",
    "plt.plot(zz,Ey_plate,color='C1',linestyle='-',label='Ey Square')\n",
    "plt.plot(zz,Ez_plate,color='C2',linestyle='-',label='Ez Square')\n",
    "plt.plot(zz,Ex_point,color='C0',linestyle=':',label='Ex Point')\n",
    "plt.plot(zz,Ey_point,color='C1',linestyle=':',label='Ey Point')\n",
    "plt.plot(zz,Ez_point,color='C2',linestyle=':',label='Ez Point')\n",
    "plt.xlabel(\"z\")\n",
    "plt.ylabel(\"Ex, Ey, Ez\")\n",
    "plt.xlim([zz[0],zz[-1]])\n",
    "plt.ylim([ 1.5*np.min([Ex_plate,Ey_plate,Ez_plate]),\n",
    "           1.5*np.max([Ex_plate,Ey_plate,Ez_plate])  ])\n",
    "plt.legend()\n",
    "plt.show()"
   ]
  },
  {
   "cell_type": "markdown",
   "metadata": {},
   "source": [
    "If everything went smoothly, you can see the electrical field profile in the figure above. Notice that far away from the origin, the electric field of the charged plate and the point charge are almost exactly the same. This is not surprising, if we look at a square plate from far away it looks like a dot.\n",
    "\n",
    "**Tasks:** \n",
    "   1. Play with the dimensions of the plate (Lx and Ly). What do you see? Is this what you would expect?\n",
    "   2. Change the position (x and y) at which we look at the profile along the z direction. What do you see?"
   ]
  },
  {
   "cell_type": "markdown",
   "metadata": {},
   "source": [
    "Instead of plotting the profile of the electric field along a single line, one can also visualize the electric field by 2D cross sections. Let's, for example, look at a cross section of the electric field in the $xy$-plane at a certain height ($z$ position) above the charged plate. "
   ]
  },
  {
   "cell_type": "code",
   "execution_count": null,
   "metadata": {},
   "outputs": [],
   "source": [
    "Efield = constructPlateEfield(chargeDensity=1., Lx=6, Ly=3, Nx=100, Ny=100)\n",
    "\n",
    "# create a grid of sample points at which we will calculate the electric field\n",
    "xx,yy = np.meshgrid( np.linspace(-10,10,50),\n",
    "                     np.linspace(-10,10,50) )\n",
    "z = 1.0\n",
    "\n",
    "# calculate the electric field in these sample point\n",
    "Ex,Ey,Ez = Efield(xx,yy,z)\n",
    "Emagnitude = np.sqrt(Ex**2+Ey**2+Ez**2)\n",
    "\n",
    "# show the magnitude of the electric field by a nice color plot\n",
    "plt.pcolor(xx,yy,Emagnitude,cmap=\"inferno\")\n",
    "plt.colorbar(label=\"Electric field magnitude\")\n",
    "\n",
    "# create field lines using the x and y components of the electric field\n",
    "plt.streamplot(xx,yy,Ex,Ey)\n",
    "\n",
    "plt.gca().set_aspect('equal')\n",
    "plt.xlabel(\"x\")\n",
    "plt.ylabel(\"y\")\n",
    "plt.show()"
   ]
  },
  {
   "cell_type": "markdown",
   "metadata": {},
   "source": [
    "**Task:** Copy te previous code cell to the code cell below. Modify the code so that you obtain a cross section of the electric field in the $xz$-plane instead of the $xy$-plane."
   ]
  },
  {
   "cell_type": "code",
   "execution_count": null,
   "metadata": {},
   "outputs": [],
   "source": [
    "# this cell is yours"
   ]
  },
  {
   "cell_type": "markdown",
   "metadata": {},
   "source": [
    "## Example 2: Two parallel plates"
   ]
  },
  {
   "cell_type": "markdown",
   "metadata": {},
   "source": [
    "In this example, we consider two parallel plates of the same size but with an opposite charge (i.e. a charged capacitor). The plates are again parallel to the $xy$-plane. One plate is positioned at $(0,0,d/2)$ and the other plate at $(0,0,-d/2)$ with $d$ the distance between the plates. The function below returns the electric field function for such a capacitor with the given properties."
   ]
  },
  {
   "cell_type": "code",
   "execution_count": null,
   "metadata": {},
   "outputs": [],
   "source": [
    "def constructEfieldParallel(chargeDensity,distance,Lx,Ly,Nx=100,Ny=100):\n",
    "    \n",
    "    Efield1 = constructPlateEfield( chargeDensity, Lx, Ly, Nx, Ny)\n",
    "    Efield2 = constructPlateEfield(-chargeDensity, Lx, Ly, Nx, Ny) # use opposite charge\n",
    "    \n",
    "    def Efield(x,y,z):\n",
    "        Ex1,Ey1,Ez1 = Efield1(x,y,z+distance/2) # note the shift in the z direction to position the plate\n",
    "        Ex2,Ey2,Ez2 = Efield2(x,y,z-distance/2)\n",
    "        return Ex1+Ex2, Ey1+Ey2, Ez1+Ez2 # return the sum of the fields of the two plates\n",
    "    \n",
    "    return Efield"
   ]
  },
  {
   "cell_type": "markdown",
   "metadata": {},
   "source": [
    "Now, that we have a constructor for the electric field of a capacitor, let's investigate the profile of the electric field along the $z$ direction for different plate sizes. Let's also add the analytical result of the infinitely large plates\n",
    "\n",
    "$$\n",
    "\\vec{E} = \\begin{cases} \n",
    "    \\frac{\\sigma}{\\epsilon_0} \\hat{e}_z \\quad & \\text{between the plates} \\\\\n",
    "    0 &\\text{otherwise}\n",
    "    \\end{cases}\n",
    "$$"
   ]
  },
  {
   "cell_type": "code",
   "execution_count": null,
   "metadata": {},
   "outputs": [],
   "source": [
    "chargeDensity = 1.\n",
    "distance = 2\n",
    "\n",
    "# the positions at which we will calculate the electric field\n",
    "x, y = 0, 0\n",
    "zz = np.linspace(-2*distance,2*distance,100)\n",
    "\n",
    "# loop over different side lengths for the capacitor plates\n",
    "for sideLength in [2,5,10]:    \n",
    "    \n",
    "    #Construct the electric field function for two plates with sideLength\n",
    "    Efield = constructEfieldParallel(chargeDensity, distance, Lx=sideLength, Ly=sideLength)  \n",
    "    \n",
    "    # Calculate the electric field in the sample points\n",
    "    Ex,Ey,Ez = Efield(x,y,z=zz)\n",
    "    \n",
    "    # plot the z-profile of the z component of the electric field\n",
    "    plt.plot(zz,Ez,label='Square l=%f'%sideLength)\n",
    "\n",
    "# add the profile for infinitely large plates\n",
    "EzInfinite = chargeDensity*( np.abs(zz)<=distance/2 ) / eps0\n",
    "plt.plot(zz,EzInfinite,label='infinite plates',color='black')\n",
    "\n",
    "# add labels and such\n",
    "plt.axvline(-distance/2,ls='--',c='gray')\n",
    "plt.axvline( distance/2,ls='--',c='gray')\n",
    "plt.xlabel(\"z\")\n",
    "plt.ylabel(\"Ez\")\n",
    "plt.xlim([zz[0],zz[-1]])\n",
    "plt.legend()\n",
    "plt.show()"
   ]
  },
  {
   "cell_type": "markdown",
   "metadata": {},
   "source": [
    "**Task**: Look at profiles of the electric field along the $z$-direction for different $x$. This time, plot also the $x$ and $y$ component of the electric field. You can do this for a single plate size to limit the number of curves on the figure."
   ]
  },
  {
   "cell_type": "code",
   "execution_count": null,
   "metadata": {},
   "outputs": [],
   "source": [
    "# this is yours"
   ]
  },
  {
   "cell_type": "markdown",
   "metadata": {},
   "source": [
    " **Task:** Make a cross section of the electric field in the $xz$-plane with $y=0$. Hint: go back to example 1 to see how we made cross sections."
   ]
  },
  {
   "cell_type": "code",
   "execution_count": null,
   "metadata": {},
   "outputs": [],
   "source": [
    "# this is yours"
   ]
  },
  {
   "cell_type": "markdown",
   "metadata": {},
   "source": [
    "## Example 3: Two plates next to each other"
   ]
  },
  {
   "cell_type": "markdown",
   "metadata": {},
   "source": [
    "**Task:** Consider two plates of the same size but with an opposite charge. Both are lying in the $xy$-plane. One at $(-d/2,0,0)$ and the other one at $(d/2,0,0)$. Note that in this case, the plates are next to each other (make sure that they do not overlap). Make a cross section of the electric field in the $xz$-plane with $y=0$."
   ]
  },
  {
   "cell_type": "code",
   "execution_count": null,
   "metadata": {},
   "outputs": [],
   "source": [
    "# this is yours"
   ]
  },
  {
   "cell_type": "code",
   "execution_count": null,
   "metadata": {},
   "outputs": [],
   "source": []
  }
 ],
 "metadata": {
  "kernelspec": {
   "display_name": "Python 3",
   "language": "python",
   "name": "python3"
  },
  "language_info": {
   "codemirror_mode": {
    "name": "ipython",
    "version": 3
   },
   "file_extension": ".py",
   "mimetype": "text/x-python",
   "name": "python",
   "nbconvert_exporter": "python",
   "pygments_lexer": "ipython3",
   "version": "3.8.3"
  }
 },
 "nbformat": 4,
 "nbformat_minor": 2
}
