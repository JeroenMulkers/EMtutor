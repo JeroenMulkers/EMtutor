{
 "cells": [
  {
   "cell_type": "markdown",
   "metadata": {},
   "source": [
    "# Numerical computation of electric fields\n",
    "<i><small>Contact: jeroen.mulkers@ugent.be</small></i>\n",
    "\n",
    "In this little demo, we will compute the electric field of rectangular charged plates numerically. The main purpose of this demo, is to show that a scripting language like Python is an ideal tool to solve physical problems when it is too hard (or when one is too lazy) to solve it analytically.\n",
    "\n",
    "This thing which is running in your browser right now, is called a \"Jupyter notebook\". Such notebooks can be used to combine text, code snippets, formulas, output figures, ... in a single well structered file.  A Python engine is running in the background to run the code snippets in the code cells. To execute a code snippet, select the code cell, and press shift+enter. Try it out on the code cell below."
   ]
  },
  {
   "cell_type": "code",
   "execution_count": null,
   "metadata": {},
   "outputs": [],
   "source": [
    "import numpy as np\n",
    "import matplotlib.pyplot as plt\n",
    "\n",
    "\n",
    "eps0 = 42 # the electric constant\n",
    "\n",
    "print(\"The answer =\",eps0)"
   ]
  },
  {
   "cell_type": "markdown",
   "metadata": {},
   "source": [
    "By executing the above cell, you imported two libraries which are used quite often by scientists. The numpy library is a very useful library to work with vectors and tensors. The matplotlib library has useful plot functionalities to visualize (numpy) data. You also defined a variable for the electric constant but the value you used is totaly wrong. Please correct this before moving on, it will be used throughout this demo."
   ]
  },
  {
   "cell_type": "markdown",
   "metadata": {},
   "source": [
    "## Electric field of a rectangular plate\n",
    "\n",
    "The electric field at a certain measure point is given by the following integral \n",
    "\n",
    "$$ \\vec{E} = \\frac{1}{4 \\pi \\epsilon_0} \\int  \\frac{\\rho(\\vec{r})\\vec{r}}{r^3} \\ \\text{d}V $$\n",
    "\n",
    "with $\\rho(\\vec{r})$ the charge density at a point $\\vec{r}$ with respect to the point of measurement. For a charged rectangular plate lying in the $xy$-plane with its center in the origin and a uniform surface charge density $\\sigma$, this 'reduces' to the following two-dimensional integral\n",
    "\n",
    "$$ \\vec{E}(x,y,z) = \\frac{\\sigma}{4 \\pi \\epsilon_0} \\int^{L_x/2}_{-L_x/2}\\int^{L_y/2}_{-L_y/2} \n",
    "\\frac{ (x-x')\\hat{e}_x + (y-y')\\hat{e}_y + z \\hat{e}_z}{\\left( (x-x')^2 + (y-y')^2 + z^2\\right)^{3/2}} \\ \\text{d}x'\\text{d}y $$\n",
    "\n",
    "with $L_x$ and $L_y$ the side lengths in the $x$ and $y$ direction. I don't really like to solve integrals like this one, and I guess you either. So, let's use python to solve this integral numerically. We will do this as follows:\n",
    "\n",
    "1. Create a partition of the rectangular plate. For simplicity, we will use a regular grid of $N_x \\times N_y$ rectangular cells. The dimensions of each cell are given by $\\Delta x=L_x/N_x$ and $\\Delta y=L_y/N_y$.\n",
    "\n",
    "2. Compute the charge of one cell. This equals the charge density multiplied by the cell area $\\Delta x \\Delta y$.\n",
    "\n",
    "3. Aproximate the integral over the plate by a finite sum over the cells.\n",
    "\n",
    "Below you can find an implementation of this approach. The `constructPlateEfield` is a function which returns a function for the electric field of a rectangular plate with the specified properties. Read through the implementation and try to understand roughly how it works."
   ]
  },
  {
   "cell_type": "code",
   "execution_count": null,
   "metadata": {},
   "outputs": [],
   "source": [
    "def constructPlateEfield(chargeDensity,Lx,Ly,Nx=100,Ny=100):\n",
    "    \n",
    "    # calculate the cell dimensions\n",
    "    dx, dy = Lx/Nx, Ly/Ny\n",
    "    \n",
    "    # construct rectangular grid of Nx by Ny cells\n",
    "    # xCell and yCell are matrices which contain the  position (of the center) of each cell \n",
    "    xCell, yCell = np.meshgrid(  np.linspace( -Lx/2+dx/2 , Lx/2-dx/2 , Nx),\n",
    "                                 np.linspace( -Ly/2+dy/2 , Ly/2-dy/2 , Ny)  )\n",
    "    \n",
    "    # calculate the prefactor (which is the same for each cell)\n",
    "    cellArea   = dx*dy\n",
    "    cellCharge = chargeDensity*cellArea\n",
    "    preFactor  = cellCharge/(4*np.pi*eps0) \n",
    "\n",
    "    \n",
    "    # define the function which can be evaluated at any point in space\n",
    "    # to get the electric field at that point\n",
    "    def Efield(x,y,z):     \n",
    "        \n",
    "        # compute the denominator of the integrand for each cell  ( 1/r^3 )\n",
    "        Rinv3 = np.power((x-xCell)**2+(y-yCell)**2+z**2,-3/2)\n",
    "        \n",
    "        # calculate electric field contributions from each cell of the rectangle\n",
    "        dEx = preFactor * (x-xCell) * Rinv3\n",
    "        dEy = preFactor * (y-yCell) * Rinv3\n",
    "        dEz = preFactor *  z        * Rinv3 \n",
    "        \n",
    "        # and sum them together\n",
    "        return np.sum(dEx), np.sum(dEy), np.sum(dEz)\n",
    "    \n",
    "    \n",
    "    # return the electric field function \n",
    "    # (and make sure it accepts numpy array inputs by 'vectorizing' the function)\n",
    "    return np.vectorize(Efield)\n",
    "\n",
    "\n",
    "# Tip: when you 'uncomment' one of the lines below, you can read the manual of the numpy command\n",
    "\n",
    "# help(np.linspace)\n",
    "# help(np.meshgrid)\n",
    "# help(np.power)"
   ]
  },
  {
   "cell_type": "markdown",
   "metadata": {},
   "source": [
    "## Example 1: A single rectangular plate\n",
    "\n",
    "Let's use the above defined function to calculate the electric field at arbitrary positions in the vicinity of a square plate with side length 3 and charge density 1. "
   ]
  },
  {
   "cell_type": "code",
   "execution_count": null,
   "metadata": {},
   "outputs": [],
   "source": [
    "Efield = constructPlateEfield(chargeDensity=1., Lx=3, Ly=3, Nx=100, Ny=100)\n",
    "\n",
    "# in a single point\n",
    "Ex,Ey,Ez = Efield(x=1.0, y=-0.4, z=3.0)\n",
    "print(\"Efield at a single point\")\n",
    "print('  Ex =', Ex)\n",
    "print('  Ey =', Ey)\n",
    "print('  Ez =', Ez)\n",
    "\n",
    "# for multiple z values\n",
    "Ex,Ey,Ez = Efield(x=1.0, y=-0.4, z=[3.0, -1.1, 2.1])\n",
    "print(\"\\nEfield at a multiple points\")\n",
    "print('  Ex =', Ex)\n",
    "print('  Ey =', Ey)\n",
    "print('  Ez =', Ez)"
   ]
  },
  {
   "cell_type": "markdown",
   "metadata": {},
   "source": [
    "Well, that's not saying much. Let's have a look at the profile of the electric field of a square plate along the z-axis and let's compare it to the electric field caused by a point charge:\n",
    "\n",
    "$$ \\vec{E} = \\frac{Q}{4\\pi\\epsilon_0} \\frac{\\vec{r}}{r^3} $$\n",
    "\n",
    "with a charge $Q$ which equals the total charge of the square plate."
   ]
  },
  {
   "cell_type": "code",
   "execution_count": null,
   "metadata": {},
   "outputs": [],
   "source": [
    "# the positions at which we will calculate the electric field\n",
    "# (100 equaly-spaced points on the z axis between z=-10 and z=10)\n",
    "x = 0.0\n",
    "y = 0.0\n",
    "zz = np.linspace(-10,10,100) \n",
    "\n",
    "# Efield SQUARE PLATE (numerically)\n",
    "chargeDensity, (Lx, Ly) = 1.0, (3.0, 3.0)\n",
    "Efield = constructPlateEfield(chargeDensity, Lx, Ly, Nx=100, Ny=100)\n",
    "Ex_plate, Ey_plate, Ez_plate = Efield(x,y,zz)\n",
    "\n",
    "# Efield POINT CHARGE (analytically)\n",
    "totalCharge = chargeDensity*Lx*Ly # equals the total charge of the plate\n",
    "Rinv3 = np.power(x**2+y**2+zz**2,-3/2) # 1/r^3\n",
    "Ex_point = (totalCharge/(4*np.pi*eps0)) *  x * Rinv3\n",
    "Ey_point = (totalCharge/(4*np.pi*eps0)) *  y * Rinv3\n",
    "Ez_point = (totalCharge/(4*np.pi*eps0)) * zz * Rinv3\n",
    "\n",
    "# plot the electric fields\n",
    "plt.plot(zz,Ex_plate,color='C0',linestyle='-',label='Ex Square')\n",
    "plt.plot(zz,Ey_plate,color='C1',linestyle='-',label='Ey Square')\n",
    "plt.plot(zz,Ez_plate,color='C2',linestyle='-',label='Ez Square')\n",
    "plt.plot(zz,Ex_point,color='C0',linestyle=':',label='Ex Point')\n",
    "plt.plot(zz,Ey_point,color='C1',linestyle=':',label='Ey Point')\n",
    "plt.plot(zz,Ez_point,color='C2',linestyle=':',label='Ez Point')\n",
    "plt.xlabel(\"z\")\n",
    "plt.ylabel(\"Ex, Ey, Ez\")\n",
    "plt.xlim([zz[0],zz[-1]])\n",
    "plt.ylim([1.5*np.min(Ez_plate),1.5*np.max(Ez_plate)])\n",
    "plt.legend()\n",
    "plt.show()"
   ]
  },
  {
   "cell_type": "markdown",
   "metadata": {},
   "source": [
    "If everything went smoothly, you can see the electrical field profile in the figure above. Notice that far away from the origin, the electric field of the charged plate and the point charge are almost exactly the same. This not surprising, if we look at the the square plate from far away it looks like a dot.\n",
    "\n",
    "**Tasks:** \n",
    "   1. Play with the dimensions of the plate (Lx and Ly). What do you see? Is this what you would expect?\n",
    "   2. Change the position (x and y) at which we look at the profile along the z direction. What do you see?"
   ]
  },
  {
   "cell_type": "code",
   "execution_count": null,
   "metadata": {},
   "outputs": [],
   "source": [
    "Efield = constructPlateEfield(chargeDensity = 1., Lx=3, Ly=3, Nx=100, Ny=100)\n",
    "\n",
    "xx,yy = np.meshgrid( np.linspace(-10,10,50),\n",
    "                     np.linspace(-10,10,50))\n",
    "z = 1.0\n",
    "\n",
    "Ex,Ey,Ez = Efield(xx,yy,z)\n",
    "Emag = np.sqrt(Ex**2+Ey**2+Ez**2)\n",
    "\n",
    "plt.pcolor(xx,yy,Emag)\n",
    "plt.colorbar()\n",
    "plt.streamplot(xx,yy,Ex,Ey)"
   ]
  },
  {
   "cell_type": "markdown",
   "metadata": {},
   "source": [
    "## Example 2: Two parallel rectangles"
   ]
  },
  {
   "cell_type": "code",
   "execution_count": null,
   "metadata": {},
   "outputs": [],
   "source": [
    "def constructEfieldParallel(chargeDensity,distance,Lx,Ly,Nx=100,Ny=100):\n",
    "    \n",
    "    Efield1 = constructRectangleEfield( chargeDensity, Lx, Ly, Nx, Ny)\n",
    "    Efield2 = constructRectangleEfield(-chargeDensity, Lx, Ly, Nx, Ny) # use opposite charge\n",
    "    \n",
    "    def Efield(x,y,z):\n",
    "        Ex1,Ey1,Ez1 = Efield1(x,y,z+distance/2)\n",
    "        Ex2,Ey2,Ez2 = Efield2(x,y,z-distance/2)\n",
    "        return Ex1+Ex2, Ey1+Ey2, Ez1+Ez2\n",
    "    \n",
    "    return Efield"
   ]
  },
  {
   "cell_type": "code",
   "execution_count": null,
   "metadata": {},
   "outputs": [],
   "source": [
    "chargeDensity = 1.\n",
    "distance = 2.\n",
    "\n",
    "x = 0\n",
    "y = 0\n",
    "zz = np.linspace(-2*distance,2*distance,100)\n",
    "\n",
    "for sideLength in [2,5,10]:\n",
    "    \n",
    "    Efield = constructEfieldParallel(chargeDensity,distance,Lx=sideLength,Ly=sideLength)\n",
    "    \n",
    "    Ex,Ey,Ez = Efield(x=0,y=0,z=zz)\n",
    "    plt.plot(zz,Ez,label='Square l=%f'%sideLength)\n",
    "\n",
    "Ez_point = chargeDensity*np.ones(zz.shape)/eps0\n",
    "plt.plot(zz,Ez_point,label='infinite plates')\n",
    "\n",
    "plt.axvline(-distance/2,ls='--',c='gray')\n",
    "plt.axvline( distance/2,ls='--',c='gray')\n",
    "plt.xlim([zz[0],zz[-1]])\n",
    "plt.legend()\n",
    "plt.show()"
   ]
  },
  {
   "cell_type": "code",
   "execution_count": null,
   "metadata": {},
   "outputs": [],
   "source": [
    "def constructEfieldNeighbours(c1,c2,distance,Lx,Ly,Nx=100,Ny=100):\n",
    "    \n",
    "    Efield1 = constructRectangleEfield( c1, Lx, Ly, Nx, Ny)\n",
    "    Efield2 = constructRectangleEfield( c2, Lx, Ly, Nx, Ny) # use opposite charge\n",
    "    \n",
    "    def Efield(x,y,z):\n",
    "        Ex1,Ey1,Ez1 = Efield1(x-distance/2,y,z)\n",
    "        Ex2,Ey2,Ez2 = Efield2(x+distance/2,y,z)\n",
    "        return Ex1+Ex2, Ey1+Ey2, Ez1+Ez2\n",
    "    \n",
    "    return Efield"
   ]
  },
  {
   "cell_type": "code",
   "execution_count": null,
   "metadata": {},
   "outputs": [],
   "source": []
  }
 ],
 "metadata": {
  "kernelspec": {
   "display_name": "Python 3",
   "language": "python",
   "name": "python3"
  },
  "language_info": {
   "codemirror_mode": {
    "name": "ipython",
    "version": 3
   },
   "file_extension": ".py",
   "mimetype": "text/x-python",
   "name": "python",
   "nbconvert_exporter": "python",
   "pygments_lexer": "ipython3",
   "version": "3.7.1"
  }
 },
 "nbformat": 4,
 "nbformat_minor": 2
}
